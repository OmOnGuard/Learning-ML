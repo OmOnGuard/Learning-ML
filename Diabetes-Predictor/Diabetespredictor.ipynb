{
 "cells": [
  {
   "cell_type": "code",
   "execution_count": 1,
   "id": "c27c37d3",
   "metadata": {},
   "outputs": [],
   "source": [
    "import pandas as pd\n",
    "import numpy as np\n",
    "from sklearn.preprocessing import StandardScaler\n",
    "from sklearn.model_selection import train_test_split\n",
    "from sklearn import svm\n",
    "from sklearn.metrics import accuracy_score, classification_report"
   ]
  },
  {
   "cell_type": "code",
   "execution_count": 2,
   "id": "de72aa82",
   "metadata": {},
   "outputs": [],
   "source": [
    "def load_data(file_path):\n",
    "    \"\"\"\n",
    "    Loads the CSV dataset from the given file path.\n",
    "    \"\"\"\n",
    "    return pd.read_csv(file_path)\n",
    "\n",
    "\n",
    "def preprocess_data(df):\n",
    "    \"\"\"\n",
    "    Separates features and target, scales features,\n",
    "    and returns standardized data, target, and scaler object.\n",
    "    \"\"\"\n",
    "    x = df.drop(columns=\"Outcome\", axis=1)\n",
    "    y = df[\"Outcome\"]\n",
    "    scaler = StandardScaler()\n",
    "    x_scaled = scaler.fit_transform(x)\n",
    "    return x_scaled, y, scaler\n",
    "\n",
    "def train_model(x_train, y_train):\n",
    "    \"\"\"\n",
    "    Trains a linear SVM classifier and returns the trained model.\n",
    "    \"\"\"\n",
    "    clf = svm.SVC(kernel='linear')\n",
    "    clf.fit(x_train, y_train)\n",
    "    return clf\n",
    "\n",
    "\n",
    "\n",
    "def evaluate_model(clf, x, y, dataset_name=\"Dataset\"):\n",
    "    \"\"\"\n",
    "    Predicts labels and prints accuracy and classification report.\n",
    "    \"\"\"\n",
    "    predictions = clf.predict(x)\n",
    "    accuracy = accuracy_score(y, predictions)\n",
    "    print(f\"{dataset_name} Accuracy: {accuracy:.2f} ({round(accuracy*100, 2)}%)\")\n",
    "    print(f\"{dataset_name} Classification Report:\\n{classification_report(y, predictions)}\\n\")\n",
    "    return accuracy\n",
    "\n",
    "\n",
    "def predict_diabetes(input_data, scaler, clf):\n",
    "    \"\"\"\n",
    "    Predicts whether a single instance indicates diabetes.\n",
    "    \"\"\"\n",
    "    input_array = np.asarray(input_data).reshape(1, -1)\n",
    "    scaled_input = scaler.transform(input_array)\n",
    "    prediction = clf.predict(scaled_input)\n",
    "    return \"Diabetic\" if prediction[0] == 1 else \"Non-diabetic\"\n",
    "\n",
    "\n",
    "\n"
   ]
  },
  {
   "cell_type": "code",
   "execution_count": null,
   "id": "58db9c15",
   "metadata": {},
   "outputs": [
    {
     "name": "stdout",
     "output_type": "stream",
     "text": [
      "Training Data Accuracy: 0.79 (78.66%)\n",
      "Training Data Classification Report:\n",
      "              precision    recall  f1-score   support\n",
      "\n",
      "           0       0.80      0.89      0.84       400\n",
      "           1       0.75      0.59      0.66       214\n",
      "\n",
      "    accuracy                           0.79       614\n",
      "   macro avg       0.77      0.74      0.75       614\n",
      "weighted avg       0.78      0.79      0.78       614\n",
      "\n",
      "\n",
      "Testing Data Accuracy: 0.77 (77.27%)\n",
      "Testing Data Classification Report:\n",
      "              precision    recall  f1-score   support\n",
      "\n",
      "           0       0.78      0.91      0.84       100\n",
      "           1       0.76      0.52      0.62        54\n",
      "\n",
      "    accuracy                           0.77       154\n",
      "   macro avg       0.77      0.71      0.73       154\n",
      "weighted avg       0.77      0.77      0.76       154\n",
      "\n",
      "\n",
      "Prediction for input (8, 126, 88, 36, 108, 38.5, 0.349, 49): Diabetic\n"
     ]
    },
    {
     "name": "stderr",
     "output_type": "stream",
     "text": [
      "c:\\Users\\trive\\AppData\\Local\\Programs\\Python\\Python313\\Lib\\site-packages\\sklearn\\utils\\validation.py:2749: UserWarning: X does not have valid feature names, but StandardScaler was fitted with feature names\n",
      "  warnings.warn(\n"
     ]
    }
   ],
   "source": [
    "def main():\n",
    "    # Load dataset\n",
    "    file_path = \"diabetes.csv\"\n",
    "    df = load_data(file_path)\n",
    "\n",
    "    # Preprocess data\n",
    "    x_scaled, y, scaler = preprocess_data(df)\n",
    "\n",
    "    # Split into train/test sets\n",
    "    x_train, x_test, y_train, y_test = train_test_split(\n",
    "        x_scaled, y, test_size=0.2, stratify=y, random_state=2\n",
    "    )\n",
    "\n",
    "    # Train model\n",
    "    classifier = train_model(x_train, y_train)\n",
    "\n",
    "    # Evaluate model\n",
    "    evaluate_model(classifier, x_train, y_train, dataset_name=\"Training Data\")\n",
    "    evaluate_model(classifier, x_test, y_test, dataset_name=\"Testing Data\")\n",
    "\n",
    "    # Example single prediction\n",
    "    example_input = (8, 126, 88, 36, 108, 38.5, 0.349, 49)\n",
    "    result = predict_diabetes(example_input, scaler, classifier)\n",
    "    print(f\"Prediction for input {example_input}: {result}\")\n",
    "\n",
    "if __name__ == \"__main__\":\n",
    "    main()"
   ]
  },
  {
   "cell_type": "code",
   "execution_count": null,
   "id": "4236ce79",
   "metadata": {},
   "outputs": [],
   "source": []
  }
 ],
 "metadata": {
  "kernelspec": {
   "display_name": "Python 3",
   "language": "python",
   "name": "python3"
  },
  "language_info": {
   "codemirror_mode": {
    "name": "ipython",
    "version": 3
   },
   "file_extension": ".py",
   "mimetype": "text/x-python",
   "name": "python",
   "nbconvert_exporter": "python",
   "pygments_lexer": "ipython3",
   "version": "3.13.6"
  }
 },
 "nbformat": 4,
 "nbformat_minor": 5
}
