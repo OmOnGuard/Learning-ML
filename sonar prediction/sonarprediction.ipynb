{
 "cells": [
  {
   "cell_type": "code",
   "execution_count": 1,
   "id": "a47da67f",
   "metadata": {},
   "outputs": [
    {
     "name": "stderr",
     "output_type": "stream",
     "text": [
      "c:\\Users\\trive\\AppData\\Local\\Programs\\Python\\Python313\\Lib\\site-packages\\tqdm\\auto.py:21: TqdmWarning: IProgress not found. Please update jupyter and ipywidgets. See https://ipywidgets.readthedocs.io/en/stable/user_install.html\n",
      "  from .autonotebook import tqdm as notebook_tqdm\n"
     ]
    }
   ],
   "source": [
    "import numpy as np\n",
    "import pandas as pd\n",
    "import os\n",
    "import kagglehub\n",
    "from sklearn.model_selection import train_test_split\n",
    "from sklearn.linear_model import LogisticRegression\n",
    "from sklearn.metrics import accuracy_score"
   ]
  },
  {
   "cell_type": "code",
   "execution_count": 2,
   "id": "430dea5b",
   "metadata": {},
   "outputs": [],
   "source": [
    "# -----------------------------\n",
    "# Data Loading\n",
    "# -----------------------------\n",
    "def load_data():\n",
    "    \"\"\"Download and load the Sonar dataset from KaggleHub.\"\"\"\n",
    "    path = kagglehub.dataset_download(\"rupakroy/sonarcsv\")\n",
    "    print(f\"✅ Dataset downloaded to: {path}\")\n",
    "\n",
    "    files = os.listdir(path)\n",
    "    csv_path = os.path.join(path, files[0])\n",
    "    data = pd.read_csv(csv_path)\n",
    "\n",
    "    return data"
   ]
  },
  {
   "cell_type": "code",
   "execution_count": 3,
   "id": "3d2cc9f7",
   "metadata": {},
   "outputs": [],
   "source": [
    "# -----------------------------\n",
    "# Data Preparation\n",
    "# -----------------------------\n",
    "def prepare_data(data):\n",
    "    \"\"\"Split dataset into features and labels.\"\"\"\n",
    "    X = data.drop(columns=\"R\", axis=1)\n",
    "    y = data[\"R\"]\n",
    "    return X, y\n",
    "\n",
    "\n",
    "def split_data(X, y, test_size=0.1, random_state=1):\n",
    "    \"\"\"Split the dataset into training and testing sets.\"\"\"\n",
    "    return train_test_split(X, y, test_size=test_size, stratify=y, random_state=random_state)\n"
   ]
  },
  {
   "cell_type": "code",
   "execution_count": 4,
   "id": "23cee703",
   "metadata": {},
   "outputs": [],
   "source": [
    "# -----------------------------\n",
    "# Model Training & Evaluation\n",
    "# -----------------------------\n",
    "def train_model(X_train, y_train):\n",
    "    \"\"\"Train Logistic Regression model.\"\"\"\n",
    "    model = LogisticRegression(max_iter=1000)\n",
    "    model.fit(X_train, y_train)\n",
    "    return model\n",
    "\n",
    "\n",
    "def evaluate_model(model, X_train, y_train, X_test, y_test):\n",
    "    \"\"\"Evaluate the model and return training/testing accuracy.\"\"\"\n",
    "    train_accuracy = accuracy_score(model.predict(X_train), y_train)\n",
    "    test_accuracy = accuracy_score(model.predict(X_test), y_test)\n",
    "    return train_accuracy, test_accuracy"
   ]
  },
  {
   "cell_type": "code",
   "execution_count": 6,
   "id": "3275472f",
   "metadata": {},
   "outputs": [],
   "source": [
    "# -----------------------------\n",
    "# Prediction\n",
    "# -----------------------------\n",
    "def predict_sample(model, input_data):\n",
    "    \"\"\"Predict if a given input sample is Rock or Mine.\"\"\"\n",
    "    input_data_as_nparray = np.asarray(input_data).reshape(1, -1)\n",
    "    prediction = model.predict(input_data_as_nparray)[0]\n",
    "    return \"Rock\" if prediction == \"R\" else \"Mine\""
   ]
  },
  {
   "cell_type": "code",
   "execution_count": 7,
   "id": "eb0a5fea",
   "metadata": {},
   "outputs": [
    {
     "name": "stdout",
     "output_type": "stream",
     "text": [
      "✅ Dataset downloaded to: C:\\Users\\trive\\.cache\\kagglehub\\datasets\\rupakroy\\sonarcsv\\versions\\2\n",
      "\n",
      "🔎 First 5 rows:\n",
      "   0.0200  0.0371  0.0428  0.0207  0.0954  0.0986  0.1539  0.1601  0.3109  \\\n",
      "0  0.0453  0.0523  0.0843  0.0689  0.1183  0.2583  0.2156  0.3481  0.3337   \n",
      "1  0.0262  0.0582  0.1099  0.1083  0.0974  0.2280  0.2431  0.3771  0.5598   \n",
      "2  0.0100  0.0171  0.0623  0.0205  0.0205  0.0368  0.1098  0.1276  0.0598   \n",
      "3  0.0762  0.0666  0.0481  0.0394  0.0590  0.0649  0.1209  0.2467  0.3564   \n",
      "4  0.0286  0.0453  0.0277  0.0174  0.0384  0.0990  0.1201  0.1833  0.2105   \n",
      "\n",
      "   0.2111  ...  0.0027  0.0065  0.0159  0.0072  0.0167  0.0180  0.0084  \\\n",
      "0  0.2872  ...  0.0084  0.0089  0.0048  0.0094  0.0191  0.0140  0.0049   \n",
      "1  0.6194  ...  0.0232  0.0166  0.0095  0.0180  0.0244  0.0316  0.0164   \n",
      "2  0.1264  ...  0.0121  0.0036  0.0150  0.0085  0.0073  0.0050  0.0044   \n",
      "3  0.4459  ...  0.0031  0.0054  0.0105  0.0110  0.0015  0.0072  0.0048   \n",
      "4  0.3039  ...  0.0045  0.0014  0.0038  0.0013  0.0089  0.0057  0.0027   \n",
      "\n",
      "   0.0090  0.0032  R  \n",
      "0  0.0052  0.0044  R  \n",
      "1  0.0095  0.0078  R  \n",
      "2  0.0040  0.0117  R  \n",
      "3  0.0107  0.0094  R  \n",
      "4  0.0051  0.0062  R  \n",
      "\n",
      "[5 rows x 61 columns]\n",
      "\n",
      "⚖️ Class distribution:\n",
      "R\n",
      "M    111\n",
      "R     96\n",
      "Name: count, dtype: int64\n",
      "\n",
      "✅ Training Accuracy: 84.41%\n",
      "✅ Testing Accuracy: 76.19%\n",
      "\n",
      "🔮 Prediction on custom input: 👉 Mine\n"
     ]
    },
    {
     "name": "stderr",
     "output_type": "stream",
     "text": [
      "c:\\Users\\trive\\AppData\\Local\\Programs\\Python\\Python313\\Lib\\site-packages\\sklearn\\utils\\validation.py:2749: UserWarning: X does not have valid feature names, but LogisticRegression was fitted with feature names\n",
      "  warnings.warn(\n"
     ]
    }
   ],
   "source": [
    "\n",
    "# -----------------------------\n",
    "# Main Flow\n",
    "# -----------------------------\n",
    "def main():\n",
    "    # Load and explore dataset\n",
    "    data = load_data()\n",
    "    print(\"\\n🔎 First 5 rows:\")\n",
    "    print(data.head())\n",
    "    print(\"\\n⚖️ Class distribution:\")\n",
    "    print(data['R'].value_counts())\n",
    "\n",
    "    # Prepare data\n",
    "    X, y = prepare_data(data)\n",
    "    X_train, X_test, y_train, y_test = split_data(X, y)\n",
    "\n",
    "    # Train model\n",
    "    model = train_model(X_train, y_train)\n",
    "\n",
    "    # Evaluate model\n",
    "    train_acc, test_acc = evaluate_model(model, X_train, y_train, X_test, y_test)\n",
    "    print(f\"\\n✅ Training Accuracy: {train_acc:.2%}\")\n",
    "    print(f\"✅ Testing Accuracy: {test_acc:.2%}\")\n",
    "\n",
    "    # Predict custom sample\n",
    "    input_data = (\n",
    "        0.0629, 0.1065, 0.1526, 0.1229, 0.1437, 0.1190, 0.0884, 0.0907,\n",
    "        0.2107, 0.3597, 0.5466, 0.5205, 0.5127, 0.5395, 0.6558, 0.8705,\n",
    "        0.9786, 0.9335, 0.7917, 0.7383, 0.6908, 0.3850, 0.0671, 0.0502,\n",
    "        0.2717, 0.2839, 0.2234, 0.1911, 0.0408, 0.2531, 0.1979, 0.1891,\n",
    "        0.2433, 0.1956, 0.2667, 0.1340, 0.1073, 0.2023, 0.1794, 0.0227,\n",
    "        0.1313, 0.1775, 0.1549, 0.1626, 0.0708, 0.0129, 0.0795, 0.0762,\n",
    "        0.0117, 0.0061, 0.0257, 0.0089, 0.0262, 0.0108, 0.0138, 0.0187,\n",
    "        0.0230, 0.0057, 0.0113, 0.0131\n",
    "    )\n",
    "    result = predict_sample(model, input_data)\n",
    "    print(f\"\\n🔮 Prediction on custom input: 👉 {result}\")\n",
    "\n",
    "\n",
    "if __name__ == \"__main__\":\n",
    "    main()"
   ]
  },
  {
   "cell_type": "code",
   "execution_count": null,
   "id": "dab9bfbb",
   "metadata": {},
   "outputs": [],
   "source": []
  }
 ],
 "metadata": {
  "kernelspec": {
   "display_name": "Python 3",
   "language": "python",
   "name": "python3"
  },
  "language_info": {
   "codemirror_mode": {
    "name": "ipython",
    "version": 3
   },
   "file_extension": ".py",
   "mimetype": "text/x-python",
   "name": "python",
   "nbconvert_exporter": "python",
   "pygments_lexer": "ipython3",
   "version": "3.13.6"
  }
 },
 "nbformat": 4,
 "nbformat_minor": 5
}
